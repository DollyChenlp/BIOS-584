{
 "cells": [
  {
   "cell_type": "markdown",
   "id": "e563d4c6-4c40-4f4e-8433-cea5e228abb9",
   "metadata": {},
   "source": [
    "# Preparation for Quiz 1"
   ]
  },
  {
   "cell_type": "markdown",
   "id": "c25732d1-e34c-49b1-9802-0226d448789f",
   "metadata": {},
   "source": [
    "## 1. Create a PyCharm project under GitHub folder"
   ]
  },
  {
   "cell_type": "markdown",
   "id": "3a3606cc-7b94-4ea2-b2df-d31935f934b8",
   "metadata": {},
   "source": [
    "<font size = '4'>\n",
    "\n",
    "We covered creating PyCharm projects and GitHub folder in the first class. \n",
    "\n",
    "It is more convienent for us to create a PyCharm project such that any changes can be picked up by the GitHub desktop automatically (as well as commit a change and push it online).\n",
    "\n",
    "One way to do that is to simply create a PyCharm project under your own GitHub BIOS-584 repo. <br>\n",
    "<span style=\"color: red;\"> If you have already successfully done it, you can ignore this section! </span>\n",
    "\n",
    "For example, after you have forked, cloned the BIOS-584 repo on your local GitHub desktop, you can create a new PyCharm project as follows:\n",
    "\n",
    "- Open PyCharm, click \"New Project\"\n",
    "<img src=\"figures/quiz1_prep_1.png\" alt=\"drawing\" width=\"600\"/>\n",
    "\n",
    "- In \"Location\", type the directory of the local GitHub repo and click \"Create\" below (snapshot did not show it)\n",
    "\n",
    "- In Mac, the directory should be `/Users/yourname/Documents/GitHub/BIOS-584`\n",
    "<img src=\"figures/quiz1_prep_2.png\" alt=\"drawing\" width=\"600\"/>\n",
    "\n",
    "- Since the original repo is not empty, you may receive a warning message. Click \"Create from Existing Sources\"\n",
    "<img src=\"figures/quiz1_prep_3.png\" alt=\"drawing\" width=\"600\"/>\n",
    "\n",
    "\n",
    "- It will create a new PyCharm project under the GitHub folder \"BIOS-584\" repo with a `.venv` folder.\n",
    "\n",
    "- The entire interface looks like\n",
    "<img src=\"figures/quiz1_prep_4.png\" alt=\"drawing\" width=\"800\"/>\n",
    "\n",
    "- When you create a new python file, PyCharm asks you whether you want to add it to Git, click \"Add\"\n",
    "\n",
    "- In that case, the GitHub desktop can detect the changes you have made automatically.\n",
    "\n",
    "    - For example, I am creating this `quiz1_preparation.ipynb` under `BIOS-584` now, and you can see the changes below:\n"
   ]
  }
 ],
 "metadata": {
  "kernelspec": {
   "display_name": "Python 3 (ipykernel)",
   "language": "python",
   "name": "python3"
  },
  "language_info": {
   "codemirror_mode": {
    "name": "ipython",
    "version": 3
   },
   "file_extension": ".py",
   "mimetype": "text/x-python",
   "name": "python",
   "nbconvert_exporter": "python",
   "pygments_lexer": "ipython3",
   "version": "3.11.4"
  }
 },
 "nbformat": 4,
 "nbformat_minor": 5
}
