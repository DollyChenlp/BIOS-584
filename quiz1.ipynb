{
 "cells": [
  {
   "cell_type": "markdown",
   "id": "93452f24-de43-40c4-8314-a7e5f89648b8",
   "metadata": {},
   "source": [
    "# Quiz 1\n",
    "\n",
    "<font size = '4'>\n",
    "\n",
    "Sep 12, 2025\n",
    "\n",
    "print your first name and last name below."
   ]
  },
  {
   "cell_type": "code",
   "execution_count": null,
   "id": "879caabf-cbd4-41be-8719-c4bf84335db0",
   "metadata": {},
   "outputs": [],
   "source": []
  },
  {
   "cell_type": "markdown",
   "id": "8c69e879-e47a-4e6f-a97b-d7a94b04ed74",
   "metadata": {},
   "source": [
    "## 1. Create a PyCharm project under your GitHub folder.\n",
    "\n",
    "<font size='4'> \n",
    "\n",
    "If you have successfully done it before, you can skip this step."
   ]
  },
  {
   "cell_type": "markdown",
   "id": "1972ceeb-b4b9-4ee7-a36a-adb192d72d1c",
   "metadata": {},
   "source": [
    "## 2. List and its related functions"
   ]
  },
  {
   "cell_type": "markdown",
   "id": "57fe55ab-699c-4d32-a2ec-5cfb4ef6c138",
   "metadata": {},
   "source": [
    "### Useful functions with list\n",
    "\n",
    "<font size = '4'>\n",
    "\n",
    "We learned list last week as well. There are some useful list functions that can help you work on it faster. <br>\n",
    "\n",
    "The general syntax is: `list_name.function_name(input_parameter)`.\n",
    "\n",
    "List is not assignable, so you CANNOT write `list_name = list_name.function_name()`. <br>\n",
    "Instead, when you run `list_name.function_name(input_parameter)`, the `list_name` itself is updated, which is called **mutable**. We will come back to this concept later.\n",
    "\n",
    "- `.append()`: Add a single element to the end of that list.\n",
    "- `.count(item)`: Count occurrences of an item in the list.\n",
    "- `.copy()`: Create a shallow copy of the list.\n",
    "- `.index(item)`: Find the idnex of the first occurrences of an item.\n",
    "- `.insert(position, item)`: Insert an item at a specific position.\n",
    "- `.pop(position)`: Remove and return the item at a specific position.\n",
    "- `.remove(item)`: Remove the first occurrence of an item.\n",
    "- `.reverse()`: Reverse the order of the list."
   ]
  },
  {
   "cell_type": "markdown",
   "id": "60583ee9-60b9-4b3a-b3ec-a8ca32643be3",
   "metadata": {},
   "source": [
    "<font size='4'>\n",
    "\n",
    "Since list is mutable, for each question in this quiz, we assume it is a separate list with a different name.\n",
    "\n",
    "All your answers should be either a list with `'cat1'` and `'cat2'` or a numerical value."
   ]
  },
  {
   "cell_type": "markdown",
   "id": "90094ee0-1cc7-4748-bfa5-86df4fe4c1e5",
   "metadata": {},
   "source": [
    "<font size='4'>\n",
    "\n",
    "1. `['cat1', 'cat1', 'cat1'].append('cat2')`\n",
    "    \n",
    "<img src=\"figures/quiz1_q1.png\" alt=\"drawing\" width=\"600\"/>\n"
   ]
  },
  {
   "cell_type": "code",
   "execution_count": null,
   "id": "149f7049-9d8e-4737-8ef0-e2d8e6b54f14",
   "metadata": {},
   "outputs": [],
   "source": []
  },
  {
   "cell_type": "markdown",
   "id": "7bf1af17-b293-45f6-bfba-a30f63956461",
   "metadata": {},
   "source": [
    "<font size='4'>\n",
    "\n",
    "2. `['cat1, 'cat1', 'cat1'].clear()`\n",
    "\n",
    "<img src=\"figures/quiz1_q2.png\" alt=\"drawing\" width=\"600\"/>"
   ]
  },
  {
   "cell_type": "code",
   "execution_count": null,
   "id": "addda6b3-637f-43fb-9da4-b51444978aba",
   "metadata": {},
   "outputs": [],
   "source": []
  },
  {
   "cell_type": "markdown",
   "id": "7ed9eb0f-17dc-46be-a469-42a37b1be687",
   "metadata": {},
   "source": [
    "<font size='4'>\n",
    "\n",
    "3. `['cat1', 'cat1', 'cat1'].copy()`\n",
    "\n",
    "<img src=\"figures/quiz1_q3.png\" alt=\"drawing\" width=\"600\"/>"
   ]
  },
  {
   "cell_type": "code",
   "execution_count": null,
   "id": "92364568-3144-4186-bf94-bffbf0f68716",
   "metadata": {},
   "outputs": [],
   "source": []
  },
  {
   "cell_type": "markdown",
   "id": "eb7074fa-db4c-430c-9c25-66bdf577e82c",
   "metadata": {},
   "source": [
    "<font size='4'>\n",
    "    \n",
    "4. `['cat1', 'cat1', 'cat2'].count('cat1')`\n",
    "\n",
    "<img src=\"figures/quiz1_q4.png\" alt=\"drawing\" width=\"600\"/>"
   ]
  },
  {
   "cell_type": "code",
   "execution_count": null,
   "id": "a5562fca-42e9-41f5-8141-e57b46441e96",
   "metadata": {},
   "outputs": [],
   "source": []
  },
  {
   "cell_type": "markdown",
   "id": "91054596-33b4-4a61-94a1-528f2d30e420",
   "metadata": {},
   "source": [
    "<font size='4'>\n",
    "    \n",
    "5. `['cat1', 'cat1', 'cat2'].index('cat2')`\n",
    "\n",
    "<img src=\"figures/quiz1_q5.png\" alt=\"drawing\" width=\"600\"/>"
   ]
  },
  {
   "cell_type": "code",
   "execution_count": null,
   "id": "391e1d65-b001-4cb9-a49a-3e68160950a5",
   "metadata": {},
   "outputs": [],
   "source": []
  },
  {
   "cell_type": "markdown",
   "id": "f7739321-b9c9-4bc7-a3f5-8cf058ae6427",
   "metadata": {},
   "source": [
    "<font size='4'>\n",
    "    \n",
    "6. `['cat1', 'cat1', 'cat2'].insert(1, 'cat2')`\n",
    "\n",
    "<img src=\"figures/quiz1_q6.png\" alt=\"drawing\" width=\"600\"/>"
   ]
  },
  {
   "cell_type": "code",
   "execution_count": null,
   "id": "0380ef61-7640-41c0-8712-ea00ac341ce8",
   "metadata": {},
   "outputs": [],
   "source": []
  },
  {
   "cell_type": "markdown",
   "id": "f8edf78f-01bf-43de-86a0-8d8cdb15ee49",
   "metadata": {},
   "source": [
    "<font size='4'>\n",
    "    \n",
    "7. `['cat1', 'cat1', 'cat2'].pop(2)`\n",
    "\n",
    "<img src=\"figures/quiz1_q7.png\" alt=\"drawing\" width=\"600\"/>"
   ]
  },
  {
   "cell_type": "code",
   "execution_count": null,
   "id": "995ede9f-3a47-4064-9da8-d33e3ac0ca9a",
   "metadata": {},
   "outputs": [],
   "source": []
  },
  {
   "cell_type": "markdown",
   "id": "dd2a6455-699b-4474-86ac-b95be7f1b938",
   "metadata": {},
   "source": [
    "<font size='4'>\n",
    "    \n",
    "8. `['cat1', 'cat1', 'cat2'].remove('cat2')`\n",
    "\n",
    "<img src=\"figures/quiz1_q8.png\" alt=\"drawing\" width=\"600\"/>"
   ]
  },
  {
   "cell_type": "code",
   "execution_count": null,
   "id": "b105f07d-902b-4f33-8787-3bc063b4fa10",
   "metadata": {},
   "outputs": [],
   "source": []
  },
  {
   "cell_type": "markdown",
   "id": "f767bf27-4640-4b16-9c30-21d79b80451e",
   "metadata": {},
   "source": [
    "<font size='4'>\n",
    "    \n",
    "9. `['cat1', 'cat1', 'cat2'].reverse()`\n",
    "\n",
    "<img src=\"figures/quiz1_q9.png\" alt=\"drawing\" width=\"600\"/>"
   ]
  },
  {
   "cell_type": "code",
   "execution_count": null,
   "id": "982cee58-24c9-4b96-9252-75535cdf6a56",
   "metadata": {},
   "outputs": [],
   "source": []
  },
  {
   "cell_type": "markdown",
   "id": "32d5209b-db0f-4f9f-9b61-f7b9873c811b",
   "metadata": {},
   "source": [
    "## 3. Save your jupyter notebook and upload it to your GitHub repository\n",
    "\n",
    "<font size='4'>\n",
    "    \n",
    "- Run all your cells.\n",
    "- Save your jupyter notebook and rename it to 'Quiz1.ipynb'.\n",
    "- Commit **only** your 'Quiz1.ipynb' and push it to your own GitHub repository.\n",
    "- Go to your GitHub repository online and find the corresponding file.\n",
    "- Copy and paste the link to your online 'Quiz1.ipynb' to the ['Quiz 1'](https://canvas.emory.edu/courses/151544/assignments/1124546) Assignment on Canvas."
   ]
  }
 ],
 "metadata": {
  "kernelspec": {
   "display_name": "Python 3 (ipykernel)",
   "language": "python",
   "name": "python3"
  },
  "language_info": {
   "codemirror_mode": {
    "name": "ipython",
    "version": 3
   },
   "file_extension": ".py",
   "mimetype": "text/x-python",
   "name": "python",
   "nbconvert_exporter": "python",
   "pygments_lexer": "ipython3",
   "version": "3.11.4"
  }
 },
 "nbformat": 4,
 "nbformat_minor": 5
}
